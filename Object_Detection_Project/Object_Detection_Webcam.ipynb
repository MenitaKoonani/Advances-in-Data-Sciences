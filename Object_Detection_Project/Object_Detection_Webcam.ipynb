{
 "cells": [
  {
   "cell_type": "markdown",
   "metadata": {},
   "source": [
    "# Object Detection using TensorFlow - Webcam"
   ]
  },
  {
   "cell_type": "code",
   "execution_count": 1,
   "metadata": {},
   "outputs": [],
   "source": [
    "import numpy as np\n",
    "import os\n",
    "import six.moves.urllib as urllib\n",
    "import sys\n",
    "import tarfile\n",
    "import tensorflow as tf\n",
    "import zipfile\n",
    "\n",
    "from utils import label_map_util\n",
    "from utils import visualization_utils as vis_util\n",
    "from collections import defaultdict\n",
    "from io import StringIO\n",
    "from matplotlib import pyplot as plt\n",
    "from PIL import Image"
   ]
  },
  {
   "cell_type": "code",
   "execution_count": 2,
   "metadata": {},
   "outputs": [],
   "source": [
    "# This is needed to display the images.\n",
    "%matplotlib inline\n",
    "\n",
    "# This is needed since the notebook is stored in the object_detection folder.\n",
    "sys.path.append(\"..\")"
   ]
  },
  {
   "cell_type": "code",
   "execution_count": 3,
   "metadata": {},
   "outputs": [],
   "source": [
    "# path to the download url \n",
    "download_url = 'http://download.tensorflow.org/models/object_detection/'\n",
    "# choosing a model to downlaod\n",
    "model = 'ssd_mobilenet_v1_coco_11_06_2017'\n",
    "model_tar = model + '.tar.gz'\n",
    "# path to the pb file\n",
    "path = model + '/frozen_inference_graph.pb'\n",
    "# path to the labels of the pretrained dataset\n",
    "label_path = os.path.join('data', 'mscoco_label_map.pbtxt')\n",
    "# 90 classes\n",
    "classes_num = 90"
   ]
  },
  {
   "cell_type": "code",
   "execution_count": 4,
   "metadata": {},
   "outputs": [
    {
     "name": "stdout",
     "output_type": "stream",
     "text": [
      "<tarfile.TarFile object at 0x000001FE79A56E48>\n"
     ]
    }
   ],
   "source": [
    "# opens the tar file and downloads the model to our system\n",
    "opener = urllib.request.URLopener()\n",
    "opener.retrieve(download_url + model_tar, model_tar)\n",
    "file = tarfile.open(model_tar)\n",
    "print(file)\n",
    "for each_file in file.getmembers():\n",
    "    each_file_name = os.path.basename(each_file.name)\n",
    "    if 'frozen_inference_graph.pb' in each_file_name:\n",
    "        file.extract(each_file, os.getcwd())"
   ]
  },
  {
   "cell_type": "code",
   "execution_count": 5,
   "metadata": {},
   "outputs": [],
   "source": [
    "# loading a frozen tensorflow model into memory\n",
    "graph_detection = tf.Graph()\n",
    "with graph_detection.as_default():\n",
    "    graph_def = tf.GraphDef()\n",
    "    with tf.gfile.GFile(path, 'rb') as fid:\n",
    "        graph_serialized = fid.read()\n",
    "        graph_def.ParseFromString(graph_serialized)\n",
    "        tf.import_graph_def(graph_def, name='')"
   ]
  },
  {
   "cell_type": "code",
   "execution_count": 6,
   "metadata": {},
   "outputs": [],
   "source": [
    "# loading labels and their mappings\n",
    "label_map = label_map_util.load_labelmap(label_path)\n",
    "categories = label_map_util.convert_label_map_to_categories(label_map, max_num_classes=classes_num, use_display_name=True)\n",
    "category_index = label_map_util.create_category_index(categories)"
   ]
  },
  {
   "cell_type": "code",
   "execution_count": null,
   "metadata": {},
   "outputs": [],
   "source": [
    "import cv2\n",
    "cap=cv2.VideoCapture(0)\n",
    "ret = True\n",
    "with graph_detection.as_default():\n",
    "    with tf.Session(graph=graph_detection) as sess:\n",
    "   \n",
    "     while(ret):\n",
    "        ret,image_np=cap.read()\n",
    "        image_np_expanded = np.expand_dims(image_np, axis=0)\n",
    "        image_tensor = graph_detection.get_tensor_by_name('image_tensor:0')\n",
    "        \n",
    "      # Each box represents a part of the image where a particular object was detected.\n",
    "        boxes = graph_detection.get_tensor_by_name('detection_boxes:0')\n",
    "      # Each score represent how level of confidence for each of the objects.\n",
    "      # Score is shown on the result image, together with the class label.\n",
    "        scores = graph_detection.get_tensor_by_name('detection_scores:0')\n",
    "        classes = graph_detection.get_tensor_by_name('detection_classes:0')\n",
    "        num_detections = graph_detection.get_tensor_by_name('num_detections:0')\n",
    "      # Actual detection.\n",
    "        (boxes, scores, classes, num_detections) = sess.run(\n",
    "          [boxes, scores, classes, num_detections],\n",
    "          feed_dict={image_tensor: image_np_expanded})\n",
    "      # Visualization of the results of a detection.\n",
    "        vis_util.visualize_boxes_and_labels_on_image_array(\n",
    "        image_np,\n",
    "        np.squeeze(boxes),\n",
    "        np.squeeze(classes).astype(np.int32),\n",
    "        np.squeeze(scores),\n",
    "        category_index,\n",
    "        use_normalized_coordinates=True,\n",
    "        line_thickness=8)\n",
    "        cv2.imshow('image',cv2.resize(image_np,(1280,960)))\n",
    "        if cv2.waitKey(25) & 0xFF==ord('q'):\n",
    "            break\n",
    "            cv2.destroyAllWindows()\n",
    "            cap.release()"
   ]
  },
  {
   "cell_type": "markdown",
   "metadata": {},
   "source": [
    "### References\n",
    "    \n",
    "    https://github.com/tensorflow/models/tree/master/research/object_detection\n",
    "    https://github.com/anujshah1003/Real_time_Object_detection_TF"
   ]
  },
  {
   "cell_type": "code",
   "execution_count": null,
   "metadata": {},
   "outputs": [],
   "source": []
  }
 ],
 "metadata": {
  "kernelspec": {
   "display_name": "Python 3",
   "language": "python",
   "name": "python3"
  },
  "language_info": {
   "codemirror_mode": {
    "name": "ipython",
    "version": 3
   },
   "file_extension": ".py",
   "mimetype": "text/x-python",
   "name": "python",
   "nbconvert_exporter": "python",
   "pygments_lexer": "ipython3",
   "version": "3.5.4"
  }
 },
 "nbformat": 4,
 "nbformat_minor": 2
}
